{
 "cells": [
  {
   "cell_type": "code",
   "execution_count": null,
   "metadata": {},
   "outputs": [],
   "source": [
    "from IPython.display import HTML, display"
   ]
  },
  {
   "cell_type": "markdown",
   "metadata": {},
   "source": [
    "# Trees\n",
    "\n",
    "This Notebook was based on the interesting **Computerphile** video by **Professor Thorsten Altenkirch**. I strongly recommend that you watch the video before following this Notebook, if you haven't yet. It is a fun way to learn about *trees* implementation in *Python*, and how to apply this versitile *data structure* to represent *mathematical expressions*."
   ]
  },
  {
   "cell_type": "code",
   "execution_count": null,
   "metadata": {},
   "outputs": [],
   "source": [
    "HTML(\"\"\"\n",
    "<div style=\"display: flex; justify-content: center;\">\n",
    "<iframe width=\"560\" height=\"315\" src=\"https://www.youtube.com/embed/7tCNu4CnjVc\" frameborder=\"0\" allow=\"accelerometer; autoplay; encrypted-media; gyroscope; picture-in-picture\" allowfullscreen></iframe>\n",
    "</div>\n",
    "\"\"\")"
   ]
  },
  {
   "cell_type": "markdown",
   "metadata": {},
   "source": [
    "Our implementation has some differences with respect to the video. \n",
    "\n",
    "Firstly, we implement a subclass `BinaryOperation` of `Expr` that we use as a boilerplate for *binary operations*, like `Plus`, `Times`, `Subtract`, `Divide`, and `Pow`. It is worth mentioning that this was recommended in the video.\n",
    "\n",
    "Secondly, we tried to be \"economical\" with the use of *brackets*, applying the mathematical precedence of the operations. For each subclass of `BinaryOperation`, we defined a property called `precedence_level`. For instance, the precedence level of `Times` was set to 1, whereas it was set to 2 for `Plus`. This means that `Times` is evaluated before `Plus` in the following expression:\n",
    "\n",
    "$$1 + 2 \\times 5.$$\n",
    "\n",
    "As a consequence, it not necessary to use parenthesis around $2 \\times 5$ like here:\n",
    "\n",
    "$$1 + \\left(2 \\times 5 \\right).$$\n",
    "\n",
    "<hr style=\"border: 0.7px solid #999; margin-top: 40px;\"/>"
   ]
  },
  {
   "cell_type": "markdown",
   "metadata": {},
   "source": [
    "## The Ingredients"
   ]
  },
  {
   "cell_type": "code",
   "execution_count": null,
   "metadata": {},
   "outputs": [],
   "source": [
    "class Expr:\n",
    "    \"\"\"Expression class.\"\"\"\n",
    "    pass"
   ]
  },
  {
   "cell_type": "code",
   "execution_count": null,
   "metadata": {},
   "outputs": [],
   "source": [
    "class Constant(Expr):\n",
    "    \"\"\"Represents constants, like 1, 0, -1.5, etc. One should pass the constant value when instantiate the class.\"\"\"\n",
    "    \n",
    "    def __init__(self, value):\n",
    "        self.value = value\n",
    "    \n",
    "    def __repr__(self):\n",
    "        return str(self.value)\n",
    "    \n",
    "    def eval(self, env):\n",
    "        return self.value"
   ]
  },
  {
   "cell_type": "code",
   "execution_count": null,
   "metadata": {},
   "outputs": [],
   "source": [
    "class Var(Expr):\n",
    "    \"\"\"Represents variables. One should pass the name of the variable when instantiating the class.\"\"\"\n",
    "    \n",
    "    def __init__(self, name):\n",
    "        self.name = name\n",
    "    \n",
    "    def __repr__(self):\n",
    "        return self.name\n",
    "    \n",
    "    def eval(self, env):\n",
    "        return env[self.name]"
   ]
  },
  {
   "cell_type": "code",
   "execution_count": null,
   "metadata": {},
   "outputs": [],
   "source": [
    "class BinaryOperation(Expr):\n",
    "    \"\"\"\n",
    "    Subclass that represents a binary operation, such as add or plus, subtract, multiply, divide, etc. The specific binary operation will be a descendent of this class.\n",
    "    \n",
    "    In the __repr__ magic method, it was implemented the logic that prints only the necessary number of brackets given the operator precedence.\n",
    "    \"\"\"\n",
    "    \n",
    "    def __init__(self, left, right, func):\n",
    "        self.func = func\n",
    "        self.left = left\n",
    "        self.right = right\n",
    "    \n",
    "    def eval(self, env):\n",
    "        return self.func(self.left.eval(env), self.right.eval(env))\n",
    "    \n",
    "    def __repr__(self, parenthesis=False):\n",
    "        if isinstance(self.left, BinaryOperation):\n",
    "            if self.left.precedence_level > self.precedence_level or (self.precedence_level == 0):\n",
    "                left = self.left.__repr__(True)\n",
    "            else:\n",
    "                left = self.left.__repr__(False)\n",
    "        else:\n",
    "            left = self.left\n",
    "        \n",
    "        if isinstance(self.right, BinaryOperation):\n",
    "            if self.right.precedence_level > self.precedence_level or self.precedence_level == 0:\n",
    "                right = self.right.__repr__(True)\n",
    "            else:\n",
    "                right = self.right.__repr__(False)\n",
    "        else:\n",
    "            right = self.right\n",
    "            \n",
    "        if parenthesis:                \n",
    "            return \"({} {} {})\".format(str(left), self.symbol, str(right))\n",
    "        else:\n",
    "            return \"{} {} {}\".format(str(left), self.symbol, str(right))"
   ]
  },
  {
   "cell_type": "code",
   "execution_count": null,
   "metadata": {},
   "outputs": [],
   "source": [
    "class Plus(BinaryOperation):\n",
    "    \"\"\"Plus operator.\"\"\"\n",
    "    \n",
    "    symbol = \"+\"\n",
    "    func = lambda a, b: a + b\n",
    "    \n",
    "    def __init__(self, left, right):\n",
    "        super().__init__(left, right, Plus.func)\n",
    "    \n",
    "    @property\n",
    "    def precedence_level(self):\n",
    "        return 3"
   ]
  },
  {
   "cell_type": "code",
   "execution_count": null,
   "metadata": {},
   "outputs": [],
   "source": [
    "class Times(BinaryOperation):\n",
    "    \"\"\"Times operator.\"\"\"\n",
    "    \n",
    "    symbol = \"*\"\n",
    "    func = lambda a, b: a * b\n",
    "    \n",
    "    def __init__(self, left, right):\n",
    "        super().__init__(left, right, Times.func)\n",
    "    \n",
    "    @property\n",
    "    def precedence_level(self):\n",
    "        return 2\n",
    "    "
   ]
  },
  {
   "cell_type": "code",
   "execution_count": null,
   "metadata": {},
   "outputs": [],
   "source": [
    "class Divide(BinaryOperation):\n",
    "    \"\"\"Divide operator.\"\"\"\n",
    "    \n",
    "    symbol = \"/\"\n",
    "    func = lambda a, b: a / b\n",
    "    \n",
    "    def __init__(self, left, right):\n",
    "        super().__init__(left, right, Divide.func)\n",
    "    \n",
    "    @property\n",
    "    def precedence_level(self):\n",
    "        return 1\n",
    "    "
   ]
  },
  {
   "cell_type": "code",
   "execution_count": null,
   "metadata": {},
   "outputs": [],
   "source": [
    "class Subtract(BinaryOperation):\n",
    "    symbol = \"-\"\n",
    "    func = lambda a, b: a - b\n",
    "    \n",
    "    def __init__(self, left, right):\n",
    "        super().__init__(left, right, Subtract.func)\n",
    "    \n",
    "    @property\n",
    "    def precedence_level(self):\n",
    "        return 3\n",
    "    "
   ]
  },
  {
   "cell_type": "code",
   "execution_count": null,
   "metadata": {},
   "outputs": [],
   "source": [
    "class Pow(BinaryOperation):\n",
    "    \"\"\"Pow operator.\"\"\"\n",
    "    \n",
    "    symbol = \"^\"\n",
    "    func = lambda a, b: a ** b\n",
    "    \n",
    "    def __init__(self, left, right):\n",
    "        super().__init__(left, right, Pow.func)\n",
    "    \n",
    "    @property\n",
    "    def precedence_level(self):\n",
    "        return 0\n",
    "    "
   ]
  },
  {
   "cell_type": "markdown",
   "metadata": {},
   "source": [
    "<hr style=\"border: 0.7px solid #999; margin-top: 0px;\"/>"
   ]
  },
  {
   "cell_type": "markdown",
   "metadata": {},
   "source": [
    "## Some Examples"
   ]
  },
  {
   "cell_type": "markdown",
   "metadata": {},
   "source": [
    "Setting the dictionary environment with the variable values to be used during the evaluation."
   ]
  },
  {
   "cell_type": "code",
   "execution_count": null,
   "metadata": {},
   "outputs": [],
   "source": [
    "env = dict(x=10, y=20)"
   ]
  },
  {
   "cell_type": "code",
   "execution_count": null,
   "metadata": {},
   "outputs": [],
   "source": [
    "e1 = Plus(Times(Constant(3), Var(\"x\")), Var(\"y\"))"
   ]
  },
  {
   "cell_type": "code",
   "execution_count": null,
   "metadata": {},
   "outputs": [],
   "source": [
    "e1"
   ]
  },
  {
   "cell_type": "code",
   "execution_count": null,
   "metadata": {},
   "outputs": [],
   "source": [
    "e1.eval(env)"
   ]
  },
  {
   "cell_type": "code",
   "execution_count": null,
   "metadata": {},
   "outputs": [],
   "source": [
    "e2 = Times(Constant(3), Plus(Var(\"x\"), Var(\"y\")))"
   ]
  },
  {
   "cell_type": "code",
   "execution_count": null,
   "metadata": {},
   "outputs": [],
   "source": [
    "e2"
   ]
  },
  {
   "cell_type": "code",
   "execution_count": null,
   "metadata": {},
   "outputs": [],
   "source": [
    "e2.eval(env)"
   ]
  },
  {
   "cell_type": "code",
   "execution_count": null,
   "metadata": {},
   "outputs": [],
   "source": [
    "e3 = Plus(e1, e2)"
   ]
  },
  {
   "cell_type": "code",
   "execution_count": null,
   "metadata": {},
   "outputs": [],
   "source": [
    "e3\n"
   ]
  },
  {
   "cell_type": "code",
   "execution_count": null,
   "metadata": {},
   "outputs": [],
   "source": [
    "e3.eval(env)"
   ]
  },
  {
   "cell_type": "code",
   "execution_count": null,
   "metadata": {},
   "outputs": [],
   "source": [
    "e4 = Divide(e1, e2)"
   ]
  },
  {
   "cell_type": "code",
   "execution_count": null,
   "metadata": {},
   "outputs": [],
   "source": [
    "e4"
   ]
  },
  {
   "cell_type": "code",
   "execution_count": null,
   "metadata": {},
   "outputs": [],
   "source": [
    "e4.eval(env)"
   ]
  },
  {
   "cell_type": "code",
   "execution_count": null,
   "metadata": {},
   "outputs": [],
   "source": [
    "e5 = Pow(Var(\"x\"), Constant(2))"
   ]
  },
  {
   "cell_type": "code",
   "execution_count": null,
   "metadata": {},
   "outputs": [],
   "source": [
    "e5.eval(env)"
   ]
  },
  {
   "cell_type": "code",
   "execution_count": null,
   "metadata": {},
   "outputs": [],
   "source": [
    "e5"
   ]
  },
  {
   "cell_type": "code",
   "execution_count": null,
   "metadata": {},
   "outputs": [],
   "source": [
    "e6 = Pow(Var(\"x\"), Plus(Constant(2), Var(\"y\")))"
   ]
  },
  {
   "cell_type": "code",
   "execution_count": null,
   "metadata": {},
   "outputs": [],
   "source": [
    "e6\n"
   ]
  },
  {
   "cell_type": "code",
   "execution_count": null,
   "metadata": {},
   "outputs": [],
   "source": [
    "e7  = Pow(Pow(Constant(3), Constant(2)), Constant(3))"
   ]
  },
  {
   "cell_type": "code",
   "execution_count": null,
   "metadata": {},
   "outputs": [],
   "source": [
    "e7"
   ]
  },
  {
   "cell_type": "code",
   "execution_count": null,
   "metadata": {},
   "outputs": [],
   "source": [
    "e7.eval(env)"
   ]
  },
  {
   "cell_type": "code",
   "execution_count": null,
   "metadata": {},
   "outputs": [],
   "source": [
    "e8 = Pow(Constant(3), Pow(Constant(2), Constant(3)))"
   ]
  },
  {
   "cell_type": "code",
   "execution_count": null,
   "metadata": {},
   "outputs": [],
   "source": [
    "e8"
   ]
  },
  {
   "cell_type": "code",
   "execution_count": null,
   "metadata": {},
   "outputs": [],
   "source": [
    "e8.eval(env)"
   ]
  },
  {
   "cell_type": "code",
   "execution_count": null,
   "metadata": {},
   "outputs": [],
   "source": [
    "e9 = Plus(Times(Plus(Var(\"x\"), Constant(2)), Subtract(Var(\"x\"), Constant(2))), Constant(5))"
   ]
  },
  {
   "cell_type": "code",
   "execution_count": null,
   "metadata": {},
   "outputs": [],
   "source": [
    "e9"
   ]
  },
  {
   "cell_type": "code",
   "execution_count": null,
   "metadata": {},
   "outputs": [],
   "source": [
    "e9.eval(env)"
   ]
  },
  {
   "cell_type": "code",
   "execution_count": null,
   "metadata": {},
   "outputs": [],
   "source": []
  }
 ],
 "metadata": {
  "kernelspec": {
   "display_name": "Python 3",
   "language": "python",
   "name": "python3"
  },
  "language_info": {
   "codemirror_mode": {
    "name": "ipython",
    "version": 3
   },
   "file_extension": ".py",
   "mimetype": "text/x-python",
   "name": "python",
   "nbconvert_exporter": "python",
   "pygments_lexer": "ipython3",
   "version": "3.7.7"
  }
 },
 "nbformat": 4,
 "nbformat_minor": 2
}
